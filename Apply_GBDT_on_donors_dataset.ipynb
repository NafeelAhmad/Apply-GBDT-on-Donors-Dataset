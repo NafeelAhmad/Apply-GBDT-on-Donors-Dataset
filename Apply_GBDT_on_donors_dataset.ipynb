{
  "cells": [
    {
      "cell_type": "markdown",
      "metadata": {
        "id": "HsQrOsC_XUNv"
      },
      "source": [
        "#1. GBDT (xgboost/lightgbm)"
      ]
    },
    {
      "cell_type": "markdown",
      "metadata": {
        "id": "ePE-InsCYI-7"
      },
      "source": [
        "<img src='http://i.imgur.com/TufZptV.jpg' width=700px>\n",
        "\n",
        "> The response tabel is built only on train dataset.\n",
        "> For a category which is not there in train data and present in test data, we will encode them with default values\n",
        "Ex: in our test data if have State: D then we encode it as [0.5, 0.05]"
      ]
    },
    {
      "cell_type": "markdown",
      "metadata": {
        "id": "jUc4KVVBYTqf"
      },
      "source": [
        "<ol>\n",
        "    <li><strong>Apply GBDT on these feature sets</strong>\n",
        "        <ul>\n",
        "            <li><font color='red'>Set 1</font>: categorical(instead of one hot encoding, try <a href='https://www.appliedaicourse.com/course/applied-ai-course-online/lessons/handling-categorical-and-numerical-features/'>response coding</a>: use probability values), numerical features + project_title(TFIDF)+  preprocessed_eassay (TFIDF)+sentiment Score of eassay(check the bellow example, include all 4 values as 4 features)</li>\n",
        "            <li><font color='red'>Set 2</font>: categorical(instead of one hot encoding, try <a href='https://www.appliedaicourse.com/course/applied-ai-course-online/lessons/handling-categorical-and-numerical-features/'>response coding</a>: use probability values), numerical features + project_title(TFIDF W2V)+  preprocessed_eassay (TFIDF W2V)</li>        </ul>\n",
        "    </li>\n",
        "    <li><strong>The hyper paramter tuning (Consider any two hyper parameters)</strong>\n",
        "        <ul>\n",
        "    <li>Find the best hyper parameter which will give the maximum <a href='https://www.appliedaicourse.com/course/applied-ai-course-online/lessons/receiver-operating-characteristic-curve-roc-curve-and-auc-1/'>AUC</a> value</li>\n",
        "    <li>find the best hyper paramter using k-fold cross validation/simple cross validation data</li>\n",
        "    <li>use gridsearch cv or randomsearch cv or you can write your own for loops to do this task</li>\n",
        "        </ul>\n",
        "    </li>\n",
        "    <li>\n",
        "    <strong>Representation of results</strong>\n",
        "        <ul>\n",
        "    <li>You need to plot the performance of model both on train data and cross validation data for each hyper parameter, like shown in the figure\n",
        "    <img src='https://i.imgur.com/Gp2DQmh.jpg' width=500px> with X-axis as <strong>n_estimators</strong>, Y-axis as <strong>max_depth</strong>, and Z-axis as <strong>AUC Score</strong> , we have given the notebook which explains how to plot this 3d plot, you can find it in the same drive <i>3d_scatter_plot.ipynb</i></li>\n",
        "            <p style=\"text-align:center;font-size:30px;color:red;\"><strong>or</strong></p> <br>\n",
        "    <li>You need to plot the performance of model both on train data and cross validation data for each hyper parameter, like shown in the figure\n",
        "    <img src='https://i.imgur.com/fgN9aUP.jpg' width=300px> <a href='https://seaborn.pydata.org/generated/seaborn.heatmap.html'>seaborn heat maps</a> with rows as <strong>n_estimators</strong>, columns as <strong>max_depth</strong>, and values inside the cell representing <strong>AUC Score</strong> </li>\n",
        "    <li>You choose either of the plotting techniques out of 3d plot or heat map</li>\n",
        "    <li>Once after you found the best hyper parameter, you need to train your model with it, and find the AUC on test data and plot the ROC curve on both train and test.\n",
        "    <img src='https://i.imgur.com/wMQDTFe.jpg' width=300px></li>\n",
        "    <li>Along with plotting ROC curve, you need to print the <a href='https://www.appliedaicourse.com/course/applied-ai-course-online/lessons/confusion-matrix-tpr-fpr-fnr-tnr-1/'>confusion matrix</a> with predicted and original labels of test data points\n",
        "    <img src='https://i.imgur.com/IdN5Ctv.png' width=300px></li>\n",
        "            </ul>\n",
        "    <br>\n",
        "    <li>You need to summarize the results at the end of the notebook, summarize it in the table format\n",
        "        <img src='http://i.imgur.com/YVpIGGE.jpg' width=400px>\n",
        "    </li>\n",
        "</ol>"
      ]
    },
    {
      "cell_type": "markdown",
      "metadata": {
        "id": "nZiKQpCkYXO2"
      },
      "source": [
        "# Loading Libraries"
      ]
    },
    {
      "cell_type": "code",
      "execution_count": null,
      "metadata": {
        "id": "Xb9ji_Q6ogBN"
      },
      "outputs": [],
      "source": [
        "%matplotlib inline\n",
        "import warnings\n",
        "warnings.filterwarnings(\"ignore\")\n",
        "\n",
        "import pandas as pd\n",
        "import numpy as np\n",
        "import nltk\n",
        "import matplotlib.pyplot as plt\n",
        "import seaborn as sns\n",
        "from sklearn.feature_extraction.text import TfidfVectorizer\n",
        "from sklearn.feature_extraction.text import CountVectorizer\n",
        "from sklearn.metrics import confusion_matrix\n",
        "from sklearn import metrics\n",
        "from scipy import sparse\n",
        "from sklearn.metrics import roc_curve, auc\n",
        "\n",
        "import re\n",
        "# Tutorial about Python regular expressions: https://pymotw.com/2/re/\n",
        "\n",
        "import pickle\n",
        "from tqdm import tqdm\n",
        "import os"
      ]
    },
    {
      "cell_type": "markdown",
      "metadata": {
        "id": "fYhHW5-Fa94k"
      },
      "source": [
        "### Loading Data"
      ]
    },
    {
      "cell_type": "code",
      "execution_count": null,
      "metadata": {
        "colab": {
          "base_uri": "https://localhost:8080/"
        },
        "id": "E7s1xR7u-CrF",
        "outputId": "ff850c71-f16b-4d90-94cd-2360c4821879"
      },
      "outputs": [
        {
          "name": "stdout",
          "output_type": "stream",
          "text": [
            "Mounted at /content/drive\n"
          ]
        }
      ],
      "source": [
        "from google.colab import drive\n",
        "drive.mount(\"/content/drive\")"
      ]
    },
    {
      "cell_type": "code",
      "execution_count": null,
      "metadata": {
        "id": "hRMjfp_7-TKE"
      },
      "outputs": [],
      "source": [
        "path = \"drive/My Drive/Colab Notebooks\""
      ]
    },
    {
      "cell_type": "code",
      "execution_count": null,
      "metadata": {
        "colab": {
          "base_uri": "https://localhost:8080/",
          "height": 333
        },
        "id": "EwbALdWe8q12",
        "outputId": "2906561d-b76e-47db-98ad-a712e54478f1"
      },
      "outputs": [
        {
          "data": {
            "text/html": [
              "\n",
              "  <div id=\"df-f2f29b28-5939-4eb7-80b6-64cccaf92508\">\n",
              "    <div class=\"colab-df-container\">\n",
              "      <div>\n",
              "<style scoped>\n",
              "    .dataframe tbody tr th:only-of-type {\n",
              "        vertical-align: middle;\n",
              "    }\n",
              "\n",
              "    .dataframe tbody tr th {\n",
              "        vertical-align: top;\n",
              "    }\n",
              "\n",
              "    .dataframe thead th {\n",
              "        text-align: right;\n",
              "    }\n",
              "</style>\n",
              "<table border=\"1\" class=\"dataframe\">\n",
              "  <thead>\n",
              "    <tr style=\"text-align: right;\">\n",
              "      <th></th>\n",
              "      <th>school_state</th>\n",
              "      <th>teacher_prefix</th>\n",
              "      <th>project_grade_category</th>\n",
              "      <th>teacher_number_of_previously_posted_projects</th>\n",
              "      <th>project_is_approved</th>\n",
              "      <th>clean_categories</th>\n",
              "      <th>clean_subcategories</th>\n",
              "      <th>essay</th>\n",
              "      <th>price</th>\n",
              "    </tr>\n",
              "  </thead>\n",
              "  <tbody>\n",
              "    <tr>\n",
              "      <th>0</th>\n",
              "      <td>ca</td>\n",
              "      <td>mrs</td>\n",
              "      <td>grades_prek_2</td>\n",
              "      <td>53</td>\n",
              "      <td>1</td>\n",
              "      <td>math_science</td>\n",
              "      <td>appliedsciences health_lifescience</td>\n",
              "      <td>i fortunate enough use fairy tale stem kits cl...</td>\n",
              "      <td>725.05</td>\n",
              "    </tr>\n",
              "    <tr>\n",
              "      <th>1</th>\n",
              "      <td>ut</td>\n",
              "      <td>ms</td>\n",
              "      <td>grades_3_5</td>\n",
              "      <td>4</td>\n",
              "      <td>1</td>\n",
              "      <td>specialneeds</td>\n",
              "      <td>specialneeds</td>\n",
              "      <td>imagine 8 9 years old you third grade classroo...</td>\n",
              "      <td>213.03</td>\n",
              "    </tr>\n",
              "  </tbody>\n",
              "</table>\n",
              "</div>\n",
              "      <button class=\"colab-df-convert\" onclick=\"convertToInteractive('df-f2f29b28-5939-4eb7-80b6-64cccaf92508')\"\n",
              "              title=\"Convert this dataframe to an interactive table.\"\n",
              "              style=\"display:none;\">\n",
              "        \n",
              "  <svg xmlns=\"http://www.w3.org/2000/svg\" height=\"24px\"viewBox=\"0 0 24 24\"\n",
              "       width=\"24px\">\n",
              "    <path d=\"M0 0h24v24H0V0z\" fill=\"none\"/>\n",
              "    <path d=\"M18.56 5.44l.94 2.06.94-2.06 2.06-.94-2.06-.94-.94-2.06-.94 2.06-2.06.94zm-11 1L8.5 8.5l.94-2.06 2.06-.94-2.06-.94L8.5 2.5l-.94 2.06-2.06.94zm10 10l.94 2.06.94-2.06 2.06-.94-2.06-.94-.94-2.06-.94 2.06-2.06.94z\"/><path d=\"M17.41 7.96l-1.37-1.37c-.4-.4-.92-.59-1.43-.59-.52 0-1.04.2-1.43.59L10.3 9.45l-7.72 7.72c-.78.78-.78 2.05 0 2.83L4 21.41c.39.39.9.59 1.41.59.51 0 1.02-.2 1.41-.59l7.78-7.78 2.81-2.81c.8-.78.8-2.07 0-2.86zM5.41 20L4 18.59l7.72-7.72 1.47 1.35L5.41 20z\"/>\n",
              "  </svg>\n",
              "      </button>\n",
              "      \n",
              "  <style>\n",
              "    .colab-df-container {\n",
              "      display:flex;\n",
              "      flex-wrap:wrap;\n",
              "      gap: 12px;\n",
              "    }\n",
              "\n",
              "    .colab-df-convert {\n",
              "      background-color: #E8F0FE;\n",
              "      border: none;\n",
              "      border-radius: 50%;\n",
              "      cursor: pointer;\n",
              "      display: none;\n",
              "      fill: #1967D2;\n",
              "      height: 32px;\n",
              "      padding: 0 0 0 0;\n",
              "      width: 32px;\n",
              "    }\n",
              "\n",
              "    .colab-df-convert:hover {\n",
              "      background-color: #E2EBFA;\n",
              "      box-shadow: 0px 1px 2px rgba(60, 64, 67, 0.3), 0px 1px 3px 1px rgba(60, 64, 67, 0.15);\n",
              "      fill: #174EA6;\n",
              "    }\n",
              "\n",
              "    [theme=dark] .colab-df-convert {\n",
              "      background-color: #3B4455;\n",
              "      fill: #D2E3FC;\n",
              "    }\n",
              "\n",
              "    [theme=dark] .colab-df-convert:hover {\n",
              "      background-color: #434B5C;\n",
              "      box-shadow: 0px 1px 3px 1px rgba(0, 0, 0, 0.15);\n",
              "      filter: drop-shadow(0px 1px 2px rgba(0, 0, 0, 0.3));\n",
              "      fill: #FFFFFF;\n",
              "    }\n",
              "  </style>\n",
              "\n",
              "      <script>\n",
              "        const buttonEl =\n",
              "          document.querySelector('#df-f2f29b28-5939-4eb7-80b6-64cccaf92508 button.colab-df-convert');\n",
              "        buttonEl.style.display =\n",
              "          google.colab.kernel.accessAllowed ? 'block' : 'none';\n",
              "\n",
              "        async function convertToInteractive(key) {\n",
              "          const element = document.querySelector('#df-f2f29b28-5939-4eb7-80b6-64cccaf92508');\n",
              "          const dataTable =\n",
              "            await google.colab.kernel.invokeFunction('convertToInteractive',\n",
              "                                                     [key], {});\n",
              "          if (!dataTable) return;\n",
              "\n",
              "          const docLinkHtml = 'Like what you see? Visit the ' +\n",
              "            '<a target=\"_blank\" href=https://colab.research.google.com/notebooks/data_table.ipynb>data table notebook</a>'\n",
              "            + ' to learn more about interactive tables.';\n",
              "          element.innerHTML = '';\n",
              "          dataTable['output_type'] = 'display_data';\n",
              "          await google.colab.output.renderOutput(dataTable, element);\n",
              "          const docLink = document.createElement('div');\n",
              "          docLink.innerHTML = docLinkHtml;\n",
              "          element.appendChild(docLink);\n",
              "        }\n",
              "      </script>\n",
              "    </div>\n",
              "  </div>\n",
              "  "
            ],
            "text/plain": [
              "  school_state teacher_prefix project_grade_category  \\\n",
              "0           ca            mrs          grades_prek_2   \n",
              "1           ut             ms             grades_3_5   \n",
              "\n",
              "   teacher_number_of_previously_posted_projects  project_is_approved  \\\n",
              "0                                            53                    1   \n",
              "1                                             4                    1   \n",
              "\n",
              "  clean_categories                 clean_subcategories  \\\n",
              "0     math_science  appliedsciences health_lifescience   \n",
              "1     specialneeds                        specialneeds   \n",
              "\n",
              "                                               essay   price  \n",
              "0  i fortunate enough use fairy tale stem kits cl...  725.05  \n",
              "1  imagine 8 9 years old you third grade classroo...  213.03  "
            ]
          },
          "execution_count": 4,
          "metadata": {},
          "output_type": "execute_result"
        }
      ],
      "source": [
        "import pandas as pd\n",
        "data = pd.read_csv(path+\"/preprocessed_data.csv\")\n",
        "data.head(2)"
      ]
    },
    {
      "cell_type": "markdown",
      "metadata": {
        "id": "VkpzTNhgZoZP"
      },
      "source": [
        "## Sentiment Scores of Preprocessed Essay"
      ]
    },
    {
      "cell_type": "code",
      "execution_count": null,
      "metadata": {
        "colab": {
          "base_uri": "https://localhost:8080/"
        },
        "id": "ah7c0wXgs3Pp",
        "outputId": "03e80739-4e97-436b-a221-47a296839101"
      },
      "outputs": [
        {
          "name": "stderr",
          "output_type": "stream",
          "text": [
            "[nltk_data] Downloading package vader_lexicon to /root/nltk_data...\n",
            "100%|██████████| 109248/109248 [03:39<00:00, 497.10it/s]\n"
          ]
        }
      ],
      "source": [
        "from sklearn.preprocessing import StandardScaler\n",
        "import nltk\n",
        "nltk.download('vader_lexicon')\n",
        "from nltk.sentiment.vader import SentimentIntensityAnalyzer\n",
        "sid    = SentimentIntensityAnalyzer()\n",
        "negative = []\n",
        "positive = []\n",
        "neutral = []\n",
        "compound = []\n",
        "def update_sentiments(values):\n",
        "    negative.append(values[\"neg\"])    \n",
        "    positive.append(values[\"pos\"])\n",
        "    neutral.append(values[\"neu\"])\n",
        "    compound.append(values[\"compound\"])\n",
        "from tqdm import tqdm\n",
        "for essay in tqdm(data[\"essay\"]):\n",
        "    update_sentiments(sid.polarity_scores(essay))"
      ]
    },
    {
      "cell_type": "code",
      "execution_count": null,
      "metadata": {
        "colab": {
          "base_uri": "https://localhost:8080/",
          "height": 333
        },
        "id": "j91zB9isxJWp",
        "outputId": "d51aa9e2-f03d-4c59-9430-4ae2518b654d"
      },
      "outputs": [
        {
          "data": {
            "text/html": [
              "\n",
              "  <div id=\"df-032b5223-a18c-421b-b2a8-cda65af02648\">\n",
              "    <div class=\"colab-df-container\">\n",
              "      <div>\n",
              "<style scoped>\n",
              "    .dataframe tbody tr th:only-of-type {\n",
              "        vertical-align: middle;\n",
              "    }\n",
              "\n",
              "    .dataframe tbody tr th {\n",
              "        vertical-align: top;\n",
              "    }\n",
              "\n",
              "    .dataframe thead th {\n",
              "        text-align: right;\n",
              "    }\n",
              "</style>\n",
              "<table border=\"1\" class=\"dataframe\">\n",
              "  <thead>\n",
              "    <tr style=\"text-align: right;\">\n",
              "      <th></th>\n",
              "      <th>school_state</th>\n",
              "      <th>teacher_prefix</th>\n",
              "      <th>project_grade_category</th>\n",
              "      <th>teacher_number_of_previously_posted_projects</th>\n",
              "      <th>project_is_approved</th>\n",
              "      <th>clean_categories</th>\n",
              "      <th>clean_subcategories</th>\n",
              "      <th>essay</th>\n",
              "      <th>price</th>\n",
              "      <th>negative</th>\n",
              "      <th>positive</th>\n",
              "      <th>neutral</th>\n",
              "      <th>compound</th>\n",
              "    </tr>\n",
              "  </thead>\n",
              "  <tbody>\n",
              "    <tr>\n",
              "      <th>0</th>\n",
              "      <td>ca</td>\n",
              "      <td>mrs</td>\n",
              "      <td>grades_prek_2</td>\n",
              "      <td>53</td>\n",
              "      <td>1</td>\n",
              "      <td>math_science</td>\n",
              "      <td>appliedsciences health_lifescience</td>\n",
              "      <td>i fortunate enough use fairy tale stem kits cl...</td>\n",
              "      <td>725.05</td>\n",
              "      <td>0.013</td>\n",
              "      <td>0.205</td>\n",
              "      <td>0.783</td>\n",
              "      <td>0.9867</td>\n",
              "    </tr>\n",
              "    <tr>\n",
              "      <th>1</th>\n",
              "      <td>ut</td>\n",
              "      <td>ms</td>\n",
              "      <td>grades_3_5</td>\n",
              "      <td>4</td>\n",
              "      <td>1</td>\n",
              "      <td>specialneeds</td>\n",
              "      <td>specialneeds</td>\n",
              "      <td>imagine 8 9 years old you third grade classroo...</td>\n",
              "      <td>213.03</td>\n",
              "      <td>0.072</td>\n",
              "      <td>0.248</td>\n",
              "      <td>0.680</td>\n",
              "      <td>0.9897</td>\n",
              "    </tr>\n",
              "  </tbody>\n",
              "</table>\n",
              "</div>\n",
              "      <button class=\"colab-df-convert\" onclick=\"convertToInteractive('df-032b5223-a18c-421b-b2a8-cda65af02648')\"\n",
              "              title=\"Convert this dataframe to an interactive table.\"\n",
              "              style=\"display:none;\">\n",
              "        \n",
              "  <svg xmlns=\"http://www.w3.org/2000/svg\" height=\"24px\"viewBox=\"0 0 24 24\"\n",
              "       width=\"24px\">\n",
              "    <path d=\"M0 0h24v24H0V0z\" fill=\"none\"/>\n",
              "    <path d=\"M18.56 5.44l.94 2.06.94-2.06 2.06-.94-2.06-.94-.94-2.06-.94 2.06-2.06.94zm-11 1L8.5 8.5l.94-2.06 2.06-.94-2.06-.94L8.5 2.5l-.94 2.06-2.06.94zm10 10l.94 2.06.94-2.06 2.06-.94-2.06-.94-.94-2.06-.94 2.06-2.06.94z\"/><path d=\"M17.41 7.96l-1.37-1.37c-.4-.4-.92-.59-1.43-.59-.52 0-1.04.2-1.43.59L10.3 9.45l-7.72 7.72c-.78.78-.78 2.05 0 2.83L4 21.41c.39.39.9.59 1.41.59.51 0 1.02-.2 1.41-.59l7.78-7.78 2.81-2.81c.8-.78.8-2.07 0-2.86zM5.41 20L4 18.59l7.72-7.72 1.47 1.35L5.41 20z\"/>\n",
              "  </svg>\n",
              "      </button>\n",
              "      \n",
              "  <style>\n",
              "    .colab-df-container {\n",
              "      display:flex;\n",
              "      flex-wrap:wrap;\n",
              "      gap: 12px;\n",
              "    }\n",
              "\n",
              "    .colab-df-convert {\n",
              "      background-color: #E8F0FE;\n",
              "      border: none;\n",
              "      border-radius: 50%;\n",
              "      cursor: pointer;\n",
              "      display: none;\n",
              "      fill: #1967D2;\n",
              "      height: 32px;\n",
              "      padding: 0 0 0 0;\n",
              "      width: 32px;\n",
              "    }\n",
              "\n",
              "    .colab-df-convert:hover {\n",
              "      background-color: #E2EBFA;\n",
              "      box-shadow: 0px 1px 2px rgba(60, 64, 67, 0.3), 0px 1px 3px 1px rgba(60, 64, 67, 0.15);\n",
              "      fill: #174EA6;\n",
              "    }\n",
              "\n",
              "    [theme=dark] .colab-df-convert {\n",
              "      background-color: #3B4455;\n",
              "      fill: #D2E3FC;\n",
              "    }\n",
              "\n",
              "    [theme=dark] .colab-df-convert:hover {\n",
              "      background-color: #434B5C;\n",
              "      box-shadow: 0px 1px 3px 1px rgba(0, 0, 0, 0.15);\n",
              "      filter: drop-shadow(0px 1px 2px rgba(0, 0, 0, 0.3));\n",
              "      fill: #FFFFFF;\n",
              "    }\n",
              "  </style>\n",
              "\n",
              "      <script>\n",
              "        const buttonEl =\n",
              "          document.querySelector('#df-032b5223-a18c-421b-b2a8-cda65af02648 button.colab-df-convert');\n",
              "        buttonEl.style.display =\n",
              "          google.colab.kernel.accessAllowed ? 'block' : 'none';\n",
              "\n",
              "        async function convertToInteractive(key) {\n",
              "          const element = document.querySelector('#df-032b5223-a18c-421b-b2a8-cda65af02648');\n",
              "          const dataTable =\n",
              "            await google.colab.kernel.invokeFunction('convertToInteractive',\n",
              "                                                     [key], {});\n",
              "          if (!dataTable) return;\n",
              "\n",
              "          const docLinkHtml = 'Like what you see? Visit the ' +\n",
              "            '<a target=\"_blank\" href=https://colab.research.google.com/notebooks/data_table.ipynb>data table notebook</a>'\n",
              "            + ' to learn more about interactive tables.';\n",
              "          element.innerHTML = '';\n",
              "          dataTable['output_type'] = 'display_data';\n",
              "          await google.colab.output.renderOutput(dataTable, element);\n",
              "          const docLink = document.createElement('div');\n",
              "          docLink.innerHTML = docLinkHtml;\n",
              "          element.appendChild(docLink);\n",
              "        }\n",
              "      </script>\n",
              "    </div>\n",
              "  </div>\n",
              "  "
            ],
            "text/plain": [
              "  school_state teacher_prefix project_grade_category  \\\n",
              "0           ca            mrs          grades_prek_2   \n",
              "1           ut             ms             grades_3_5   \n",
              "\n",
              "   teacher_number_of_previously_posted_projects  project_is_approved  \\\n",
              "0                                            53                    1   \n",
              "1                                             4                    1   \n",
              "\n",
              "  clean_categories                 clean_subcategories  \\\n",
              "0     math_science  appliedsciences health_lifescience   \n",
              "1     specialneeds                        specialneeds   \n",
              "\n",
              "                                               essay   price  negative  \\\n",
              "0  i fortunate enough use fairy tale stem kits cl...  725.05     0.013   \n",
              "1  imagine 8 9 years old you third grade classroo...  213.03     0.072   \n",
              "\n",
              "   positive  neutral  compound  \n",
              "0     0.205    0.783    0.9867  \n",
              "1     0.248    0.680    0.9897  "
            ]
          },
          "execution_count": 6,
          "metadata": {},
          "output_type": "execute_result"
        }
      ],
      "source": [
        "data['negative'] = negative\n",
        "data['positive'] = positive\n",
        "data['neutral'] = neutral\n",
        "data['compound'] = compound\n",
        "\n",
        "data.head(2)"
      ]
    },
    {
      "cell_type": "code",
      "execution_count": null,
      "metadata": {
        "colab": {
          "base_uri": "https://localhost:8080/",
          "height": 249
        },
        "id": "yS3a_4CFGfFO",
        "outputId": "e81c133b-893d-4257-dfe7-52708c3918ba"
      },
      "outputs": [
        {
          "data": {
            "text/html": [
              "\n",
              "  <div id=\"df-f2acc6e6-4162-4154-b705-4bad9d6019f5\">\n",
              "    <div class=\"colab-df-container\">\n",
              "      <div>\n",
              "<style scoped>\n",
              "    .dataframe tbody tr th:only-of-type {\n",
              "        vertical-align: middle;\n",
              "    }\n",
              "\n",
              "    .dataframe tbody tr th {\n",
              "        vertical-align: top;\n",
              "    }\n",
              "\n",
              "    .dataframe thead th {\n",
              "        text-align: right;\n",
              "    }\n",
              "</style>\n",
              "<table border=\"1\" class=\"dataframe\">\n",
              "  <thead>\n",
              "    <tr style=\"text-align: right;\">\n",
              "      <th></th>\n",
              "      <th>school_state</th>\n",
              "      <th>teacher_prefix</th>\n",
              "      <th>project_grade_category</th>\n",
              "      <th>teacher_number_of_previously_posted_projects</th>\n",
              "      <th>clean_categories</th>\n",
              "      <th>clean_subcategories</th>\n",
              "      <th>essay</th>\n",
              "      <th>price</th>\n",
              "      <th>negative</th>\n",
              "      <th>positive</th>\n",
              "      <th>neutral</th>\n",
              "      <th>compound</th>\n",
              "    </tr>\n",
              "  </thead>\n",
              "  <tbody>\n",
              "    <tr>\n",
              "      <th>0</th>\n",
              "      <td>ca</td>\n",
              "      <td>mrs</td>\n",
              "      <td>grades_prek_2</td>\n",
              "      <td>53</td>\n",
              "      <td>math_science</td>\n",
              "      <td>appliedsciences health_lifescience</td>\n",
              "      <td>i fortunate enough use fairy tale stem kits cl...</td>\n",
              "      <td>725.05</td>\n",
              "      <td>0.013</td>\n",
              "      <td>0.205</td>\n",
              "      <td>0.783</td>\n",
              "      <td>0.9867</td>\n",
              "    </tr>\n",
              "  </tbody>\n",
              "</table>\n",
              "</div>\n",
              "      <button class=\"colab-df-convert\" onclick=\"convertToInteractive('df-f2acc6e6-4162-4154-b705-4bad9d6019f5')\"\n",
              "              title=\"Convert this dataframe to an interactive table.\"\n",
              "              style=\"display:none;\">\n",
              "        \n",
              "  <svg xmlns=\"http://www.w3.org/2000/svg\" height=\"24px\"viewBox=\"0 0 24 24\"\n",
              "       width=\"24px\">\n",
              "    <path d=\"M0 0h24v24H0V0z\" fill=\"none\"/>\n",
              "    <path d=\"M18.56 5.44l.94 2.06.94-2.06 2.06-.94-2.06-.94-.94-2.06-.94 2.06-2.06.94zm-11 1L8.5 8.5l.94-2.06 2.06-.94-2.06-.94L8.5 2.5l-.94 2.06-2.06.94zm10 10l.94 2.06.94-2.06 2.06-.94-2.06-.94-.94-2.06-.94 2.06-2.06.94z\"/><path d=\"M17.41 7.96l-1.37-1.37c-.4-.4-.92-.59-1.43-.59-.52 0-1.04.2-1.43.59L10.3 9.45l-7.72 7.72c-.78.78-.78 2.05 0 2.83L4 21.41c.39.39.9.59 1.41.59.51 0 1.02-.2 1.41-.59l7.78-7.78 2.81-2.81c.8-.78.8-2.07 0-2.86zM5.41 20L4 18.59l7.72-7.72 1.47 1.35L5.41 20z\"/>\n",
              "  </svg>\n",
              "      </button>\n",
              "      \n",
              "  <style>\n",
              "    .colab-df-container {\n",
              "      display:flex;\n",
              "      flex-wrap:wrap;\n",
              "      gap: 12px;\n",
              "    }\n",
              "\n",
              "    .colab-df-convert {\n",
              "      background-color: #E8F0FE;\n",
              "      border: none;\n",
              "      border-radius: 50%;\n",
              "      cursor: pointer;\n",
              "      display: none;\n",
              "      fill: #1967D2;\n",
              "      height: 32px;\n",
              "      padding: 0 0 0 0;\n",
              "      width: 32px;\n",
              "    }\n",
              "\n",
              "    .colab-df-convert:hover {\n",
              "      background-color: #E2EBFA;\n",
              "      box-shadow: 0px 1px 2px rgba(60, 64, 67, 0.3), 0px 1px 3px 1px rgba(60, 64, 67, 0.15);\n",
              "      fill: #174EA6;\n",
              "    }\n",
              "\n",
              "    [theme=dark] .colab-df-convert {\n",
              "      background-color: #3B4455;\n",
              "      fill: #D2E3FC;\n",
              "    }\n",
              "\n",
              "    [theme=dark] .colab-df-convert:hover {\n",
              "      background-color: #434B5C;\n",
              "      box-shadow: 0px 1px 3px 1px rgba(0, 0, 0, 0.15);\n",
              "      filter: drop-shadow(0px 1px 2px rgba(0, 0, 0, 0.3));\n",
              "      fill: #FFFFFF;\n",
              "    }\n",
              "  </style>\n",
              "\n",
              "      <script>\n",
              "        const buttonEl =\n",
              "          document.querySelector('#df-f2acc6e6-4162-4154-b705-4bad9d6019f5 button.colab-df-convert');\n",
              "        buttonEl.style.display =\n",
              "          google.colab.kernel.accessAllowed ? 'block' : 'none';\n",
              "\n",
              "        async function convertToInteractive(key) {\n",
              "          const element = document.querySelector('#df-f2acc6e6-4162-4154-b705-4bad9d6019f5');\n",
              "          const dataTable =\n",
              "            await google.colab.kernel.invokeFunction('convertToInteractive',\n",
              "                                                     [key], {});\n",
              "          if (!dataTable) return;\n",
              "\n",
              "          const docLinkHtml = 'Like what you see? Visit the ' +\n",
              "            '<a target=\"_blank\" href=https://colab.research.google.com/notebooks/data_table.ipynb>data table notebook</a>'\n",
              "            + ' to learn more about interactive tables.';\n",
              "          element.innerHTML = '';\n",
              "          dataTable['output_type'] = 'display_data';\n",
              "          await google.colab.output.renderOutput(dataTable, element);\n",
              "          const docLink = document.createElement('div');\n",
              "          docLink.innerHTML = docLinkHtml;\n",
              "          element.appendChild(docLink);\n",
              "        }\n",
              "      </script>\n",
              "    </div>\n",
              "  </div>\n",
              "  "
            ],
            "text/plain": [
              "  school_state teacher_prefix project_grade_category  \\\n",
              "0           ca            mrs          grades_prek_2   \n",
              "\n",
              "   teacher_number_of_previously_posted_projects clean_categories  \\\n",
              "0                                            53     math_science   \n",
              "\n",
              "                  clean_subcategories  \\\n",
              "0  appliedsciences health_lifescience   \n",
              "\n",
              "                                               essay   price  negative  \\\n",
              "0  i fortunate enough use fairy tale stem kits cl...  725.05     0.013   \n",
              "\n",
              "   positive  neutral  compound  \n",
              "0     0.205    0.783    0.9867  "
            ]
          },
          "execution_count": 7,
          "metadata": {},
          "output_type": "execute_result"
        }
      ],
      "source": [
        "y = data['project_is_approved'].values\n",
        "X = data.drop(['project_is_approved'], axis=1)\n",
        "X.head(1)\n"
      ]
    },
    {
      "cell_type": "code",
      "execution_count": null,
      "metadata": {
        "id": "ev56pOmsGjzE"
      },
      "outputs": [],
      "source": [
        "from sklearn.model_selection import train_test_split\n",
        "X_train, X_test, y_train, y_test = train_test_split(X, y, test_size=0.33, stratify=y) "
      ]
    },
    {
      "cell_type": "code",
      "execution_count": null,
      "metadata": {
        "colab": {
          "base_uri": "https://localhost:8080/"
        },
        "id": "csYLAbj2idCu",
        "outputId": "f02e13cf-c010-46af-dccd-88e65d5c6802"
      },
      "outputs": [
        {
          "data": {
            "text/plain": [
              "(73196, 12)"
            ]
          },
          "execution_count": 9,
          "metadata": {},
          "output_type": "execute_result"
        }
      ],
      "source": [
        "X_train.shape"
      ]
    },
    {
      "cell_type": "markdown",
      "metadata": {
        "id": "J2Y7yvhtqwF_"
      },
      "source": [
        "##Encoding Categorical Features: Essay"
      ]
    },
    {
      "cell_type": "markdown",
      "metadata": {
        "id": "j5wezS1nfP99"
      },
      "source": [
        "### using tfidf"
      ]
    },
    {
      "cell_type": "code",
      "execution_count": null,
      "metadata": {
        "id": "jaNSJEGhOWCt"
      },
      "outputs": [],
      "source": [
        "from sklearn.feature_extraction.text import TfidfVectorizer\n",
        "vectorizer = TfidfVectorizer(min_df=10)\n",
        "text_tfidf = vectorizer.fit(X_train['essay'].values)\n",
        "X_train_tfidf_es = vectorizer.transform(X_train['essay'].values)\n",
        "X_test_tfidf_es = vectorizer.transform(X_test['essay'].values)"
      ]
    },
    {
      "cell_type": "code",
      "execution_count": null,
      "metadata": {
        "id": "l38ztuaiyG2l"
      },
      "outputs": [],
      "source": [
        "glove_vector_path = 'drive/My Drive/Colab Notebooks/gllove_vectors'"
      ]
    },
    {
      "cell_type": "code",
      "execution_count": null,
      "metadata": {
        "colab": {
          "background_save": true,
          "base_uri": "https://localhost:8080/"
        },
        "id": "8Lq4WRxWXWfN",
        "outputId": "766d42f6-ffdb-4349-ec75-f45f3f1cbcb9"
      },
      "outputs": [
        {
          "name": "stderr",
          "output_type": "stream",
          "text": [
            "100%|██████████| 73196/73196 [02:49<00:00, 432.04it/s]\n",
            "100%|██████████| 36052/36052 [01:24<00:00, 427.71it/s]\n"
          ]
        }
      ],
      "source": [
        "import pickle\n",
        "with open(glove_vector_path, 'rb') as f:\n",
        "    model = pickle.load(f)\n",
        "    glove_words =  set(model.keys())\n",
        "\n",
        "# Hence we are now converting a dictionary with word as a key, and the idf as a value\n",
        "dictionary = dict(zip(vectorizer.get_feature_names(), list(vectorizer.idf_)))\n",
        "tfidf_words = set(vectorizer.get_feature_names())     \n",
        " \n",
        "# Function to generate Word2Vec referencing \"4_Reference_Vectorization.ipynb\" given in the instruction\n",
        "def generate_w2v_from_text(essays_text_arr):\n",
        "  # compute average word2vec for each review.\n",
        "    tfidf_w2v_vectors = []\n",
        "    # the avg-w2v for each sentence/review is stored in this list\n",
        "\n",
        "    for sentence in tqdm(essays_text_arr):  # for each sentence\n",
        "        vector = np.zeros(300)  # as word vectors are of zero length\n",
        "        tf_idf_weight = 0\n",
        "        # num of words with a valid vector in the sentence\n",
        "        for word in sentence.split():  # for each word in a sentence\n",
        "            if (word in glove_words) and (word in tfidf_words):\n",
        "                vec = model[word]  # getting the vector for each word\n",
        "                # here we are multiplying idf value(dictionary[word]) and the tf value((sentence.count(word)/len(sentence.split())))\n",
        "                tf_idf = dictionary[word] * (sentence.count(word) / len(sentence.split()))  # getting the tfidf value for each word\n",
        "                vector += vec * tf_idf  # calculating tfidf weighted w2v\n",
        "                tf_idf_weight += tf_idf\n",
        "        if tf_idf_weight != 0:\n",
        "            vector /= tf_idf_weight\n",
        "        tfidf_w2v_vectors.append(vector)\n",
        "        #tfidf_w2v_ve = sparse.csr_matrix(tfidf_w2v_vectors)\n",
        "    return tfidf_w2v_vectors\n",
        "\n",
        "X_train_vectorized_tfidf_w2v_essay = sparse.csr_matrix(generate_w2v_from_text(X_train['essay'].values))\n",
        "X_test_vectorized_tfidf_w2v_essay = sparse.csr_matrix(generate_w2v_from_text(X_test['essay'].values))"
      ]
    },
    {
      "cell_type": "markdown",
      "metadata": {
        "id": "S82fh7TOewW4"
      },
      "source": [
        "## Encoding Categorical Features: Project Title"
      ]
    },
    {
      "cell_type": "markdown",
      "metadata": {
        "id": "oRJS9kJyfT4l"
      },
      "source": [
        "### using tfidf"
      ]
    },
    {
      "cell_type": "markdown",
      "metadata": {
        "id": "4jZpdtZ1i7qI"
      },
      "source": [
        "### Response Encoding"
      ]
    },
    {
      "cell_type": "code",
      "execution_count": null,
      "metadata": {
        "id": "7hmvKOB8i6XY"
      },
      "outputs": [],
      "source": [
        "# Defining fit function \n",
        "def fit(feature):\n",
        "    # storing 'project_is_approved' column to x_train\n",
        "    X_train['class_label'] = y_train \n",
        "    # getting value counts(denominator) of each category\n",
        "    cnt = X_train[ feature ].value_counts() \n",
        "    feature_dict = dict()    #Creating Empty dict\n",
        "    for i, denom in cnt.items():\n",
        "        vector = []\n",
        "        for j in range(2):\n",
        "            compare =X_train.loc[ ( X_train['class_label'] == j ) & (X_train[feature] == i ) ]\n",
        "            vector.append( len(compare) / denom)\n",
        "        # adding probability of each class label for a pariticular category of feature    \n",
        "        feature_dict[i] = vector    \n",
        "    return feature_dict  \n",
        "# Defining Transform Function\n",
        "def transform(feature, df ):\n",
        "    feature_dict = fit(feature)\n",
        "    cnt = X_train[feature].value_counts()\n",
        "    f=[]\n",
        "    for ct in df[feature]:\n",
        "        if ct in dict( cnt ).keys():   # transform test data with trainning probabilities\n",
        "            f.append( feature_dict[ct] )\n",
        "        else:\n",
        "            f.append([0.5, 0.05])\n",
        "    return f"
      ]
    },
    {
      "cell_type": "markdown",
      "metadata": {
        "id": "dEbNhSRKVMBT"
      },
      "source": [
        "##Encoding Categorical Features: Teacher Prefix\n",
        "\n",
        "\n"
      ]
    },
    {
      "cell_type": "code",
      "execution_count": null,
      "metadata": {
        "colab": {
          "base_uri": "https://localhost:8080/"
        },
        "id": "GRkDMmwdVEl8",
        "outputId": "e7e156b6-977e-476b-d386-b15b380c27d1"
      },
      "outputs": [
        {
          "output_type": "stream",
          "name": "stdout",
          "text": [
            "After vectorizations\n",
            "(73196, 2) (73196,)\n",
            "(36052, 2) (36052,)\n",
            "====================================================================================================\n",
            "After vectorizations\n",
            "(73196, 2) (73196,)\n",
            "(36052, 2) (36052,)\n",
            "====================================================================================================\n"
          ]
        }
      ],
      "source": [
        "X_train_teacher_res =np.array(transform('teacher_prefix',X_train))\n",
        "X_test_teacher_res = np.array(transform('teacher_prefix',X_test))\n",
        "\n",
        "print(\"After vectorizations\")\n",
        "print(X_train_teacher_res.shape, y_train.shape)\n",
        "print(X_test_teacher_res.shape, y_test.shape)\n",
        "\n",
        "print(\"=\"*100)"
      ]
    },
    {
      "cell_type": "markdown",
      "metadata": {
        "id": "SCFIno3-imOd"
      },
      "source": [
        "##Encoding Categorical Features: Project Grade"
      ]
    },
    {
      "cell_type": "code",
      "execution_count": null,
      "metadata": {
        "colab": {
          "base_uri": "https://localhost:8080/"
        },
        "id": "oZq3hTwQVcHy",
        "outputId": "b533c3b3-e8ff-4016-cd91-69c45651a950"
      },
      "outputs": [
        {
          "output_type": "stream",
          "name": "stdout",
          "text": [
            "After vectorizations\n",
            "(73196, 2) (73196,)\n",
            "(36052, 2) (36052,)\n",
            "====================================================================================================\n"
          ]
        }
      ],
      "source": [
        "X_train_project_res =np.array(transform('project_grade_category',X_train))\n",
        "X_test_project_res = np.array(transform('project_grade_category',X_test))\n",
        "\n",
        "print(\"After vectorizations\")\n",
        "print(X_train_project_res.shape, y_train.shape)\n",
        "print(X_test_project_res.shape, y_test.shape)\n",
        "\n",
        "print(\"=\"*100)"
      ]
    },
    {
      "cell_type": "markdown",
      "metadata": {
        "id": "JiNeliK-i4Aw"
      },
      "source": [
        "##Encoding Categorical Features: School State"
      ]
    },
    {
      "cell_type": "code",
      "execution_count": null,
      "metadata": {
        "colab": {
          "base_uri": "https://localhost:8080/"
        },
        "id": "LUweKHlXVhlo",
        "outputId": "c357cef5-27c5-435e-b165-9a580c54b96f"
      },
      "outputs": [
        {
          "output_type": "stream",
          "name": "stdout",
          "text": [
            "After vectorizations\n",
            "(73196, 2) (73196,)\n",
            "(36052, 2) (36052,)\n",
            "====================================================================================================\n"
          ]
        }
      ],
      "source": [
        "X_train_state_res =np.array(transform('school_state',X_train))\n",
        "X_test_state_res =np.array(transform('school_state',X_test)) \n",
        "print(\"After vectorizations\")\n",
        "print(X_train_state_res.shape, y_train.shape)\n",
        "print(X_test_state_res.shape, y_test.shape)\n",
        "print(\"=\"*100)"
      ]
    },
    {
      "cell_type": "markdown",
      "metadata": {
        "id": "n2znzDaLi9de"
      },
      "source": [
        "##Encoding Categorical Features: Clean Categories"
      ]
    },
    {
      "cell_type": "code",
      "execution_count": null,
      "metadata": {
        "colab": {
          "base_uri": "https://localhost:8080/"
        },
        "id": "aWd6RaRyVla_",
        "outputId": "3ee44ff1-a97c-4356-a2bd-1bda6b1b4ea4"
      },
      "outputs": [
        {
          "output_type": "stream",
          "name": "stdout",
          "text": [
            "After vectorizations\n",
            "(73196, 2) (73196,)\n",
            "(36052, 2) (36052,)\n",
            "====================================================================================================\n"
          ]
        }
      ],
      "source": [
        "X_train_category_res =np.array(transform('clean_categories',X_train))\n",
        "X_test_category_res = np.array(transform('clean_categories',X_test))\n",
        "\n",
        "print(\"After vectorizations\")\n",
        "print(X_train_category_res.shape, y_train.shape)\n",
        "print(X_test_category_res.shape, y_test.shape)\n",
        "print(\"=\"*100)"
      ]
    },
    {
      "cell_type": "markdown",
      "metadata": {
        "id": "_sHh75t9jGBu"
      },
      "source": [
        "##Encoding Categorical Features: Clean Sub Categories"
      ]
    },
    {
      "cell_type": "code",
      "execution_count": null,
      "metadata": {
        "colab": {
          "base_uri": "https://localhost:8080/"
        },
        "id": "ugZle7tFVpcR",
        "outputId": "8014cc7e-72fe-4aef-cf86-5003e090fb84"
      },
      "outputs": [
        {
          "output_type": "stream",
          "name": "stdout",
          "text": [
            "After vectorizations\n",
            "(73196, 2) (73196,)\n",
            "(36052, 2) (36052,)\n",
            "====================================================================================================\n"
          ]
        }
      ],
      "source": [
        "X_train_subcategory_res = np.array(transform('clean_subcategories',X_train))\n",
        "X_test_subcategory_res = np.array(transform('clean_subcategories',X_test))\n",
        "print(\"After vectorizations\")\n",
        "print(X_train_subcategory_res.shape, y_train.shape)\n",
        "print(X_test_subcategory_res.shape, y_test.shape)\n",
        "print(\"=\"*100)\n",
        "     "
      ]
    },
    {
      "cell_type": "markdown",
      "metadata": {
        "id": "Z_LcR6zNqNLf"
      },
      "source": [
        "##Encoding Numerical Features: Price"
      ]
    },
    {
      "cell_type": "code",
      "execution_count": null,
      "metadata": {
        "colab": {
          "base_uri": "https://localhost:8080/"
        },
        "id": "lwWtLHT8VvZ1",
        "outputId": "173bd93c-ba85-4124-bc93-638c7e786a7c"
      },
      "outputs": [
        {
          "output_type": "stream",
          "name": "stdout",
          "text": [
            "After vectorizations\n",
            "(73196, 1) (73196,)\n",
            "(36052, 1) (36052,)\n",
            "====================================================================================================\n"
          ]
        }
      ],
      "source": [
        "from sklearn.preprocessing import Normalizer\n",
        "normalizer = Normalizer()\n",
        "normalizer.fit(X_train['price'].values.reshape(-1,1))\n",
        "\n",
        "X_train_price_norm = normalizer.transform(X_train['price'].values.reshape(-1,1))\n",
        "X_test_price_norm = normalizer.transform(X_test['price'].values.reshape(-1,1))\n",
        "\n",
        "print(\"After vectorizations\")\n",
        "print(X_train_price_norm.shape, y_train.shape)\n",
        "print(X_test_price_norm.shape, y_test.shape)\n",
        "print(\"=\"*100)"
      ]
    },
    {
      "cell_type": "markdown",
      "metadata": {
        "id": "a7oaLY_4qccp"
      },
      "source": [
        "##Encoding Numerical Features: Previous Project"
      ]
    },
    {
      "cell_type": "code",
      "execution_count": null,
      "metadata": {
        "colab": {
          "base_uri": "https://localhost:8080/"
        },
        "id": "cUTKcDUkWPf3",
        "outputId": "9875dbc5-8154-447e-8594-052204226524"
      },
      "outputs": [
        {
          "output_type": "stream",
          "name": "stdout",
          "text": [
            "After vectorizations\n",
            "(73196, 1) (73196,)\n",
            "(36052, 1) (36052,)\n",
            "====================================================================================================\n"
          ]
        }
      ],
      "source": [
        "from sklearn.preprocessing import Normalizer\n",
        "normalizer = Normalizer()\n",
        "\n",
        "normalizer.fit(X_train['teacher_number_of_previously_posted_projects'].values.reshape(-1,1))\n",
        "\n",
        "X_train_previous_project_norm = normalizer.transform(X_train['teacher_number_of_previously_posted_projects'].values.reshape(-1,1))\n",
        "X_test_previous_project_norm = normalizer.transform(X_test['teacher_number_of_previously_posted_projects'].values.reshape(-1,1))\n",
        "\n",
        "print(\"After vectorizations\")\n",
        "print(X_train_previous_project_norm.shape, y_train.shape)\n",
        "print(X_test_previous_project_norm.shape, y_test.shape)\n",
        "print(\"=\"*100)"
      ]
    },
    {
      "cell_type": "markdown",
      "metadata": {
        "id": "rD8zmFryaQIg"
      },
      "source": [
        "##Sentiment Scores : Negative"
      ]
    },
    {
      "cell_type": "code",
      "execution_count": null,
      "metadata": {
        "colab": {
          "base_uri": "https://localhost:8080/"
        },
        "id": "kj72dcQ0BxYk",
        "outputId": "84e6b64e-88f5-4dda-fc91-a835bd70d472"
      },
      "outputs": [
        {
          "output_type": "stream",
          "name": "stdout",
          "text": [
            "After Standardizing on negative column checking the shapes \n",
            "(73196, 1) (73196,)\n",
            "(36052, 1) (36052,)\n"
          ]
        }
      ],
      "source": [
        "sentiments_standardizer = StandardScaler()\n",
        "\n",
        "# First applying the .fit() on the train data to find Mean and SD\n",
        "sentiments_standardizer.fit(X_train['negative'].values.reshape(-1,1))\n",
        "\n",
        "# Now applying .transform() to train, test and cv data\n",
        "X_train_negative_sent_standardized = sentiments_standardizer.transform(X_train['negative'].values.reshape(-1,1))\n",
        "X_test_negative_sent_standardized = sentiments_standardizer.transform(X_test['negative'].values.reshape(-1,1))\n",
        "\n",
        "print('After Standardizing on negative column checking the shapes ')\n",
        "print(X_train_negative_sent_standardized.shape, y_train.shape)\n",
        "print(X_test_negative_sent_standardized.shape, y_test.shape)"
      ]
    },
    {
      "cell_type": "markdown",
      "metadata": {
        "id": "GcMRffeQaURQ"
      },
      "source": [
        "##Sentiment Scores : Positive"
      ]
    },
    {
      "cell_type": "code",
      "execution_count": null,
      "metadata": {
        "colab": {
          "base_uri": "https://localhost:8080/"
        },
        "id": "4NddP8uWCjhE",
        "outputId": "dee142cf-1d14-49a2-94d4-cc6b159c10cf"
      },
      "outputs": [
        {
          "output_type": "stream",
          "name": "stdout",
          "text": [
            "After Standardizing on positive column checking the shapes \n",
            "(73196, 1) (73196,)\n",
            "(36052, 1) (36052,)\n"
          ]
        }
      ],
      "source": [
        "sentiments_standardizer.fit(X_train['positive'].values.reshape(-1,1))\n",
        "\n",
        "# Now applying .transform() to train, test and cv data\n",
        "X_train_positive_sent_standardized = sentiments_standardizer.transform(X_train['positive'].values.reshape(-1,1))\n",
        "X_test_positive_sent_standardized = sentiments_standardizer.transform(X_test['positive'].values.reshape(-1,1))\n",
        "\n",
        "print('After Standardizing on positive column checking the shapes ')\n",
        "print(X_train_positive_sent_standardized.shape, y_train.shape)\n",
        "print(X_test_positive_sent_standardized.shape, y_test.shape)"
      ]
    },
    {
      "cell_type": "markdown",
      "metadata": {
        "id": "JTNyasRoaYWY"
      },
      "source": [
        "##Sentiment Scores : Neutral"
      ]
    },
    {
      "cell_type": "code",
      "execution_count": null,
      "metadata": {
        "colab": {
          "base_uri": "https://localhost:8080/"
        },
        "id": "cLJhTDoPCke6",
        "outputId": "55565d45-58bd-4ae6-a3c0-f320f25294a3"
      },
      "outputs": [
        {
          "output_type": "stream",
          "name": "stdout",
          "text": [
            "After Standardizing on neutral column checking the shapes \n",
            "(73196, 1) (73196,)\n",
            "(36052, 1) (36052,)\n"
          ]
        }
      ],
      "source": [
        "sentiments_standardizer.fit(X_train['neutral'].values.reshape(-1,1))\n",
        "\n",
        "# Now applying .transform() to train, test and cv data\n",
        "X_train_neutral_sent_standardized = sentiments_standardizer.transform(X_train['neutral'].values.reshape(-1,1))\n",
        "X_test_neutral_sent_standardized = sentiments_standardizer.transform(X_test['neutral'].values.reshape(-1,1))\n",
        "\n",
        "print('After Standardizing on neutral column checking the shapes ')\n",
        "print(X_train_neutral_sent_standardized.shape, y_train.shape)\n",
        "print(X_test_neutral_sent_standardized.shape, y_test.shape)"
      ]
    },
    {
      "cell_type": "markdown",
      "metadata": {
        "id": "i7IaL0__aZ83"
      },
      "source": [
        "##Sentiment Scores : Compound"
      ]
    },
    {
      "cell_type": "code",
      "execution_count": null,
      "metadata": {
        "colab": {
          "base_uri": "https://localhost:8080/"
        },
        "id": "vfOwmmh-CntZ",
        "outputId": "595b3018-d947-472c-9112-be78a6a92496"
      },
      "outputs": [
        {
          "output_type": "stream",
          "name": "stdout",
          "text": [
            "After Standardizing on compound column checking the shapes \n",
            "(73196, 1) (73196,)\n",
            "(36052, 1) (36052,)\n"
          ]
        }
      ],
      "source": [
        "sentiments_standardizer.fit(X_train['compound'].values.reshape(-1,1))\n",
        "\n",
        "# Now applying .transform() to train, test and cv data\n",
        "X_train_compound_sent_standardized = sentiments_standardizer.transform(X_train['compound'].values.reshape(-1,1))\n",
        "X_test_compound_sent_standardized = sentiments_standardizer.transform(X_test['compound'].values.reshape(-1,1))\n",
        "\n",
        "print('After Standardizing on compound column checking the shapes ')\n",
        "print(X_train_compound_sent_standardized.shape, y_train.shape)\n",
        "print(X_test_compound_sent_standardized.shape, y_test.shape)"
      ]
    },
    {
      "cell_type": "markdown",
      "metadata": {
        "id": "am0p25Zowdl3"
      },
      "source": [
        "### Merging All Features of Set 1"
      ]
    },
    {
      "cell_type": "code",
      "execution_count": null,
      "metadata": {
        "id": "ZKIWoGr-RI1W"
      },
      "outputs": [],
      "source": [
        "from scipy.sparse import hstack\n",
        "X_tr_set_one = hstack((X_train_tfidf_es, X_train_state_res, X_train_teacher_res, X_train_project_res, X_train_price_norm,X_train_category_res,X_train_subcategory_res,X_train_previous_project_norm,X_train_negative_sent_standardized ,X_train_positive_sent_standardized,X_train_neutral_sent_standardized,X_train_compound_sent_standardized)).tocsr()\n",
        "X_te_set_one = hstack((X_test_tfidf_es, X_test_state_res, X_test_teacher_res, X_test_project_res, X_test_price_norm,X_test_category_res,X_test_subcategory_res,X_test_previous_project_norm,X_test_negative_sent_standardized ,X_test_positive_sent_standardized,X_test_neutral_sent_standardized,X_test_compound_sent_standardized)).tocsr()"
      ]
    },
    {
      "cell_type": "code",
      "execution_count": null,
      "metadata": {
        "colab": {
          "base_uri": "https://localhost:8080/"
        },
        "id": "DhWR6k86qgIj",
        "outputId": "c89204b7-e8e6-4ab0-cf4c-a8321f002c70"
      },
      "outputs": [
        {
          "output_type": "stream",
          "name": "stdout",
          "text": [
            "SHAPE OF TRAIN AND TEST AFTER STACKING\n",
            "(73196, 14251)\n",
            "(36052, 14251)\n"
          ]
        }
      ],
      "source": [
        "print(\"SHAPE OF TRAIN AND TEST AFTER STACKING\")\n",
        "print(X_tr_set_one.shape)\n",
        "print(X_te_set_one.shape)"
      ]
    },
    {
      "cell_type": "markdown",
      "metadata": {
        "id": "Vw-byvEozHeB"
      },
      "source": [
        "## Applying GBDT on SET 1 "
      ]
    },
    {
      "cell_type": "code",
      "execution_count": null,
      "metadata": {
        "colab": {
          "base_uri": "https://localhost:8080/"
        },
        "id": "LLYR2oh8zGjv",
        "outputId": "70c14096-dca5-4828-fd48-40623a07225b"
      },
      "outputs": [
        {
          "data": {
            "text/plain": [
              "GridSearchCV(cv=3, estimator=GradientBoostingClassifier(), n_jobs=-1,\n",
              "             param_grid={'learning_rate': [0.1, 0.3, 0.5, 0.7],\n",
              "                         'n_estimators': [15, 20, 40, 60]},\n",
              "             return_train_score=True, scoring='roc_auc')"
            ]
          },
          "execution_count": 31,
          "metadata": {},
          "output_type": "execute_result"
        }
      ],
      "source": [
        "from sklearn.ensemble import GradientBoostingClassifier\n",
        "from sklearn.model_selection import GridSearchCV\n",
        "parameters = {\"learning_rate\" : [0.1,0.3,0.5,0.7],\"n_estimators\":[15,20,40,60] }\n",
        "clf = GridSearchCV(GradientBoostingClassifier(), parameters, cv=3,  scoring='roc_auc',return_train_score=True,n_jobs=-1)\n",
        "clf.fit(X_tr_set_one,y_train)"
      ]
    },
    {
      "cell_type": "code",
      "execution_count": null,
      "metadata": {
        "colab": {
          "base_uri": "https://localhost:8080/"
        },
        "id": "1EFmleLxgBCH",
        "outputId": "0bf2d03d-fb5b-451b-f61e-ad063fcb3da0"
      },
      "outputs": [
        {
          "data": {
            "text/plain": [
              "{'learning_rate': 0.3, 'n_estimators': 60}"
            ]
          },
          "execution_count": 32,
          "metadata": {},
          "output_type": "execute_result"
        }
      ],
      "source": [
        "clf.best_params_"
      ]
    },
    {
      "cell_type": "code",
      "execution_count": null,
      "metadata": {
        "colab": {
          "base_uri": "https://localhost:8080/",
          "height": 405
        },
        "id": "kKXE_rIEqzhL",
        "outputId": "248ec1ec-24da-47eb-df7b-e91fa510cf57"
      },
      "outputs": [
        {
          "data": {
            "image/png": "[encoded data removed]",
            "text/plain": [
              "<Figure size 1440x432 with 4 Axes>"
            ]
          },
          "metadata": {},
          "output_type": "display_data"
        }
      ],
      "source": [
        "results_from_gridsearchcv = pd.DataFrame(clf.cv_results_).groupby(['param_learning_rate', 'param_n_estimators']).max().unstack()[['mean_test_score', 'mean_train_score']]\n",
        "\n",
        "max_auc_scores = results_from_gridsearchcv\n",
        "\n",
        "max_auc_scores = max_auc_scores\n",
        "\n",
        "fig, ax = plt.subplots(1, 2, figsize=(20, 6))\n",
        "\n",
        "sns.heatmap(max_auc_scores.mean_train_score, annot = True, fmt='.4g', ax=ax[0])\n",
        "sns.heatmap(max_auc_scores.mean_test_score, annot = True, fmt='.4g', ax=ax[1])\n",
        "\n",
        "ax[0].set_title('Train Data')\n",
        "ax[1].set_title('CV Data')\n",
        "plt.show()"
      ]
    },
    {
      "cell_type": "code",
      "execution_count": null,
      "metadata": {
        "colab": {
          "base_uri": "https://localhost:8080/",
          "height": 295
        },
        "id": "iqiifdOhq3Si",
        "outputId": "3a5a6a29-7cfb-42f8-fe36-6f2f1dd57bb2"
      },
      "outputs": [
        {
          "data": {
            "image/png": "[encoded data removed]",
            "text/plain": [
              "<Figure size 432x288 with 1 Axes>"
            ]
          },
          "metadata": {},
          "output_type": "display_data"
        }
      ],
      "source": [
        "dt_clf= GradientBoostingClassifier(learning_rate = clf.best_params_[\"learning_rate\"], n_estimators= clf.best_params_[\"n_estimators\"])\n",
        "dt_clf.fit(X_tr_set_one, y_train )\n",
        "\n",
        "y_train_predicted = dt_clf.predict_proba(X_tr_set_one)[:,1]\n",
        "y_test_predicted = dt_clf.predict_proba(X_te_set_one)[:,1]\n",
        "\n",
        "s1_train_fpr, s1_train_tpr, s1_train_threshold = roc_curve(y_train, y_train_predicted)\n",
        "s1_test_fpr, s1_test_tpr, s1_test_threshold = roc_curve(y_test, y_test_predicted)\n",
        "\n",
        "plt.plot(s1_train_fpr, s1_train_tpr, label=\"Train AUC = \"+str(auc(s1_train_fpr, s1_train_tpr)))\n",
        "plt.plot(s1_test_fpr, s1_test_tpr, label=\"Test AUC = \"+str(auc(s1_test_fpr, s1_test_tpr)))\n",
        "plt.legend()\n",
        "plt.xlabel('FPR')\n",
        "plt.ylabel('TPR')\n",
        "plt.grid()\n",
        "plt.title('ROC-AUC Curve after implementing Decition Tree')\n",
        "plt.show()"
      ]
    },
    {
      "cell_type": "code",
      "execution_count": null,
      "metadata": {
        "id": "J8ss8ayWt-xX"
      },
      "outputs": [],
      "source": [
        "def find_best_threshold(threshould, fpr, tpr):\n",
        "    t = threshould[np.argmax(tpr*(1-fpr))]\n",
        "    # (tpr*(1-fpr)) will be maximum if your fpr is very low and tpr is very high\n",
        "    print(\"the maximum value of tpr*(1-fpr)\", max(tpr*(1-fpr)), \"for threshold\", np.round(t,3))\n",
        "    return t\n",
        "\n",
        "def predict_with_best_t(proba, threshould):\n",
        "    predictions = []\n",
        "    for i in proba:\n",
        "        if i>=threshould:\n",
        "            predictions.append(1)\n",
        "        else:\n",
        "            predictions.append(0)\n",
        "    return predictions"
      ]
    },
    {
      "cell_type": "code",
      "execution_count": null,
      "metadata": {
        "colab": {
          "base_uri": "https://localhost:8080/",
          "height": 423
        },
        "id": "lqzBd31ZAYZv",
        "outputId": "1a1d2951-e50e-4821-ee21-aa49765a319c"
      },
      "outputs": [
        {
          "name": "stdout",
          "output_type": "stream",
          "text": [
            "the maximum value of tpr*(1-fpr) 0.46762666766825717 for threshold 0.848\n",
            "the maximum value of tpr*(1-fpr) 0.4115937118322937 for threshold 0.858\n",
            "CONFUSION MATRIX OF TRAIN DATA\n",
            "\n",
            "\n"
          ]
        },
        {
          "data": {
            "image/png": "[encoded data removed]",
            "text/plain": [
              "<Figure size 864x360 with 4 Axes>"
            ]
          },
          "metadata": {},
          "output_type": "display_data"
        }
      ],
      "source": [
        "#Train Data  # https://stackoverflow.com/questions/35572000/how-can-i-plot-a-confusion-matrix\n",
        "best_tr = find_best_threshold(s1_train_threshold, s1_train_fpr, s1_train_tpr)\n",
        "best_te = find_best_threshold(s1_test_threshold, s1_test_fpr, s1_test_tpr)\n",
        "\n",
        "cm_tr = metrics.confusion_matrix(y_train,predict_with_best_t(y_train_predicted, best_tr))  \n",
        "cm_te = metrics.confusion_matrix(y_test,predict_with_best_t(y_test_predicted, best_te))\n",
        "\n",
        "print(\"CONFUSION MATRIX OF TRAIN DATA\")\n",
        "print(\"\\n\")\n",
        "fig,ax = plt.subplots(1,2, figsize=(12,5)) \n",
        "\n",
        "sns.heatmap(cm_tr, xticklabels=['Predicted Label'], yticklabels=['True Label'], annot=True, fmt='d',cmap='GnBu',annot_kws = {\"size\":16},ax=ax[0])\n",
        "sns.heatmap(cm_te, xticklabels=['Predicted Label'], yticklabels=['True Label'], annot=True, fmt='d',cmap='GnBu',annot_kws = {\"size\":16},ax=ax[1])\n",
        "ax[0].set_title('Train Data')\n",
        "ax[1].set_title('Test Data')\n",
        "\n",
        "plt.show()"
      ]
    },
    {
      "cell_type": "markdown",
      "metadata": {
        "id": "sC4BLpR_Z6XM"
      },
      "source": [
        "# Set 2\n"
      ]
    },
    {
      "cell_type": "markdown",
      "metadata": {
        "id": "uQECDrOygxvh"
      },
      "source": [
        "### Encoding Essay using tfidf w2v"
      ]
    },
    {
      "cell_type": "markdown",
      "metadata": {
        "id": "v0AkX0bfhCJ9"
      },
      "source": [
        "### Encoding Project Title using tfidf w2v"
      ]
    },
    {
      "cell_type": "code",
      "execution_count": null,
      "metadata": {
        "id": "PURbUa_ImXoy"
      },
      "outputs": [],
      "source": [
        "from scipy.sparse import hstack\n",
        "X_tr_set_two = hstack((X_train_vectorized_tfidf_w2v_essay, X_train_state_res, X_train_teacher_res, X_train_project_res, X_train_price_norm,X_train_category_res,X_train_subcategory_res,X_train_previous_project_norm,X_train_negative_sent_standardized ,X_train_positive_sent_standardized,X_train_neutral_sent_standardized,X_train_compound_sent_standardized)).tocsr()\n",
        "X_te_set_two = hstack((X_test_vectorized_tfidf_w2v_essay, X_test_state_res, X_test_teacher_res, X_test_project_res, X_test_price_norm,X_test_category_res,X_test_subcategory_res,X_test_previous_project_norm,X_test_negative_sent_standardized ,X_test_positive_sent_standardized,X_test_neutral_sent_standardized,X_test_compound_sent_standardized)).tocsr()"
      ]
    },
    {
      "cell_type": "markdown",
      "metadata": {
        "id": "SmEfCMuV2Och"
      },
      "source": [
        "### Applying GBDT on Set 2"
      ]
    },
    {
      "cell_type": "code",
      "execution_count": null,
      "metadata": {
        "id": "kGMSdjQW2LeI",
        "colab": {
          "base_uri": "https://localhost:8080/"
        },
        "outputId": "bbfc9978-c97f-4828-c277-3fc8b06bfb78"
      },
      "outputs": [
        {
          "output_type": "execute_result",
          "data": {
            "text/plain": [
              "GridSearchCV(cv=3, estimator=GradientBoostingClassifier(), n_jobs=-1,\n",
              "             param_grid={'learning_rate': [0.1, 0.3, 0.5, 0.7],\n",
              "                         'n_estimators': [15, 20, 40]},\n",
              "             return_train_score=True, scoring='roc_auc')"
            ]
          },
          "metadata": {},
          "execution_count": 31
        }
      ],
      "source": [
        "from sklearn.ensemble import GradientBoostingClassifier\n",
        "from sklearn.model_selection import GridSearchCV\n",
        "parameters = {\"learning_rate\" : [0.1,0.3,0.5,0.7],\"n_estimators\":[15,20,40] }\n",
        "clf = GridSearchCV(GradientBoostingClassifier(), parameters, cv=3,  scoring='roc_auc',return_train_score=True,n_jobs=-1)\n",
        "clf.fit(X_tr_set_two,y_train)"
      ]
    },
    {
      "cell_type": "code",
      "source": [
        "clf.best_params_"
      ],
      "metadata": {
        "colab": {
          "base_uri": "https://localhost:8080/"
        },
        "id": "x83_6o5Ox0YD",
        "outputId": "29912a73-3fac-45b6-cae8-0fe9df34431c"
      },
      "execution_count": null,
      "outputs": [
        {
          "output_type": "execute_result",
          "data": {
            "text/plain": [
              "{'learning_rate': 0.3, 'n_estimators': 40}"
            ]
          },
          "metadata": {},
          "execution_count": 36
        }
      ]
    },
    {
      "cell_type": "code",
      "execution_count": null,
      "metadata": {
        "colab": {
          "base_uri": "https://localhost:8080/",
          "height": 405
        },
        "id": "aD9CFt32mtfP",
        "outputId": "7c389e40-0249-4b31-9106-35ddd314c77b"
      },
      "outputs": [
        {
          "output_type": "display_data",
          "data": {
            "text/plain": [
              "<Figure size 1440x432 with 4 Axes>"
            ],
            "image/png": "[encoded data removed]"
          },
          "metadata": {
            "needs_background": "light"
          }
        }
      ],
      "source": [
        "results_from_gridsearchcv = pd.DataFrame(clf.cv_results_)\n",
        "\n",
        "max_auc_scores = results_from_gridsearchcv.groupby(['param_learning_rate', 'param_n_estimators']).max()\n",
        "\n",
        "max_auc_scores = max_auc_scores.unstack()[['mean_test_score', 'mean_train_score']]\n",
        "\n",
        "fig, ax = plt.subplots(1, 2, figsize=(20, 6))\n",
        "\n",
        "sns.heatmap(max_auc_scores.mean_train_score, annot = True, fmt='.4g', ax=ax[0])\n",
        "sns.heatmap(max_auc_scores.mean_test_score, annot = True, fmt='.4g', ax=ax[1])\n",
        "\n",
        "ax[0].set_title('Train Data')\n",
        "ax[1].set_title('CV Data')\n",
        "plt.show()"
      ]
    },
    {
      "cell_type": "code",
      "execution_count": null,
      "metadata": {
        "colab": {
          "base_uri": "https://localhost:8080/",
          "height": 295
        },
        "id": "eWBgK8mznxKZ",
        "outputId": "b0c67a24-f032-440c-a0ff-7713e0ac3d59"
      },
      "outputs": [
        {
          "output_type": "display_data",
          "data": {
            "text/plain": [
              "<Figure size 432x288 with 1 Axes>"
            ],
            "image/png": "[encoded data removed]"
          },
          "metadata": {
            "needs_background": "light"
          }
        }
      ],
      "source": [
        "dt_clf = GradientBoostingClassifier(learning_rate = clf.best_params_[\"learning_rate\"], n_estimators= clf.best_params_[\"n_estimators\"])\n",
        "dt_clf.fit(X_tr_set_two, y_train)\n",
        "\n",
        "y_train_predicted = dt_clf.predict_proba(X_tr_set_two)[:,1]\n",
        "y_test_predicted = dt_clf.predict_proba(X_te_set_two)[:,1]\n",
        "\n",
        "s2_train_fpr, s2_train_tpr, s2_train_threshold = roc_curve(y_train, y_train_predicted)\n",
        "s2_test_fpr, s2_test_tpr, s2_test_threshold = roc_curve(y_test, y_test_predicted)\n",
        "\n",
        "plt.plot(s2_train_fpr, s2_train_tpr, label=\"Train AUC = \"+str(auc(s2_train_fpr, s2_train_tpr)))\n",
        "plt.plot(s2_test_fpr, s2_test_tpr, label=\"Test AUC = \"+str(auc(s2_test_fpr, s2_test_tpr)))\n",
        "plt.legend()\n",
        "plt.xlabel('FPR')\n",
        "plt.ylabel('TPR')\n",
        "plt.grid()\n",
        "plt.title('ROC-AUC Curve after implementing Decition Tree')\n",
        "plt.show()"
      ]
    },
    {
      "cell_type": "code",
      "execution_count": null,
      "metadata": {
        "id": "vpqosuiNt3xu"
      },
      "outputs": [],
      "source": [
        "def find_best_threshold(threshould, fpr, tpr):\n",
        "    t = threshould[np.argmax(tpr*(1-fpr))]\n",
        "    # (tpr*(1-fpr)) will be maximum if your fpr is very low and tpr is very high\n",
        "    print(\"the maximum value of tpr*(1-fpr)\", max(tpr*(1-fpr)), \"for threshold\", np.round(t,3))\n",
        "    return t\n",
        "\n",
        "def predict_with_best_t(proba, threshould):\n",
        "    predictions = []\n",
        "    for i in proba:\n",
        "        if i>=threshould:\n",
        "            predictions.append(1)\n",
        "        else:\n",
        "            predictions.append(0)\n",
        "    return predictions"
      ]
    },
    {
      "cell_type": "code",
      "execution_count": null,
      "metadata": {
        "colab": {
          "base_uri": "https://localhost:8080/",
          "height": 440
        },
        "id": "YeooV4DRXlKX",
        "outputId": "fa1b9aa1-f86b-4b3a-8439-5aaafc88a57b"
      },
      "outputs": [
        {
          "output_type": "stream",
          "name": "stdout",
          "text": [
            "the maximum value of tpr*(1-fpr) 0.45360217502778283 for threshold 0.847\n",
            "the maximum value of tpr*(1-fpr) 0.4033282591604875 for threshold 0.845\n",
            "CONFUSION MATRIX OF TRAIN DATA\n",
            "\n",
            "\n"
          ]
        },
        {
          "output_type": "execute_result",
          "data": {
            "text/plain": [
              "Text(0.5, 1.0, 'Test Data')"
            ]
          },
          "metadata": {},
          "execution_count": 35
        },
        {
          "output_type": "display_data",
          "data": {
            "text/plain": [
              "<Figure size 864x360 with 4 Axes>"
            ],
            "image/png": "[encoded data removed]"
          },
          "metadata": {
            "needs_background": "light"
          }
        }
      ],
      "source": [
        "best_tr = find_best_threshold(s2_train_threshold , s2_train_fpr, s2_train_tpr)\n",
        "best_te = find_best_threshold(s2_test_threshold, s2_test_fpr, s2_test_tpr)\n",
        "cm_tr = metrics.confusion_matrix(y_train,predict_with_best_t(y_train_predicted, best_tr))  \n",
        "cm_te = metrics.confusion_matrix(y_test,predict_with_best_t(y_test_predicted, best_te))\n",
        "fig,ax = plt.subplots(1,2, figsize=(12,5)) \n",
        "print(\"CONFUSION MATRIX OF TRAIN DATA\")\n",
        "print(\"\\n\")\n",
        "\n",
        "sns.heatmap(cm_tr, xticklabels=['Predicted Label'], yticklabels=['True Label'], annot=True, fmt='d',cmap='GnBu',annot_kws = {\"size\":16},ax=ax[0])\n",
        "sns.heatmap(cm_te, xticklabels=['Predicted Label'], yticklabels=['True Label'], annot=True, fmt='d',cmap='GnBu',annot_kws = {\"size\":16},ax=ax[1])\n",
        "ax[0].set_title('Train Data')\n",
        "ax[1].set_title('Test Data')"
      ]
    },
    {
      "cell_type": "markdown",
      "metadata": {
        "id": "BMf2IXhd26sJ"
      },
      "source": [
        "### SUMMARY"
      ]
    },
    {
      "cell_type": "code",
      "execution_count": null,
      "metadata": {
        "colab": {
          "base_uri": "https://localhost:8080/"
        },
        "id": "PQ8M5EXwrH2Q",
        "outputId": "ba850687-0643-4963-8bf3-7a4d904cf399"
      },
      "outputs": [
        {
          "output_type": "stream",
          "name": "stdout",
          "text": [
            "+-------+------------+------------------------------+---------------------------------------+-----------+----------+\n",
            "| Sl.N0 | Vectorizer |            Model             |            Hyper Parameter            | Train-AUC | Test-AUC |\n",
            "+-------+------------+------------------------------+---------------------------------------+-----------+----------+\n",
            "|   1   |   TFIDF    | GRADIENT BOOSTING CLASSIFIER |  learning rate =0.3 , n_estimators=60 |  0.75048  | 0.69128  |\n",
            "+-------+------------+------------------------------+---------------------------------------+-----------+----------+\n",
            "|   2   | TFIDF W2V  | GRADIENT BOOSTING CLASSIFIER |  learning rate =0.3 , n_estimators=40 |  0.73713  | 0.68111  |\n",
            "+-------+------------+------------------------------+---------------------------------------+-----------+----------+\n"
          ]
        }
      ],
      "source": [
        "\n",
        "from prettytable import PrettyTable\n",
        "from prettytable import ALL as ALL\n",
        "table=PrettyTable(hrules=ALL)\n",
        "table.field_names = [ \"Sl.N0\",\"Vectorizer\", \"Model\", \"Hyper Parameter\", \"Train-AUC\", \"Test-AUC\"] # # http://zetcode.com/python/prettytable/\n",
        "table.add_row([1,\"TFIDF\", \"GRADIENT BOOSTING CLASSIFIER\", \"learning rate =0.3 , n_estimators=60\", 0.75048, 0.69128])\n",
        "table.add_row([2,\"TFIDF W2V\", \"GRADIENT BOOSTING CLASSIFIER\",\" learning rate =0.3 , n_estimators=40\", 0.73713, 0.68111])\n",
        "print(table)\n",
        "     "
      ]
    }
  ],
  "metadata": {
    "colab": {
      "provenance": []
    },
    "gpuClass": "standard",
    "kernelspec": {
      "display_name": "Python 3",
      "name": "python3"
    },
    "language_info": {
      "name": "python"
    }
  },
  "nbformat": 4,
  "nbformat_minor": 0
}